{
 "cells": [
  {
   "cell_type": "code",
   "execution_count": 1,
   "metadata": {},
   "outputs": [],
   "source": [
    "import requests\n",
    "import json\n",
    "import pandas as pd\n",
    "import numpy as np\n",
    "from functools import reduce\n",
    "import datetime\n",
    "import wbdata\n",
    "import plotly.express as px\n",
    "import plotly.io as pio\n",
    "pio.renderers.default = \"notebook\" # use \"pio.renderers\" to see the default renderer\n",
    "import matplotlib.pyplot as plt\n",
    "import seaborn as sns"
   ]
  },
  {
   "cell_type": "markdown",
   "metadata": {},
   "source": [
    "# Blokis International Debt"
   ]
  },
  {
   "cell_type": "markdown",
   "metadata": {},
   "source": [
    "## Objective\n",
    "- Build time-series table with debt over time for a selection of countries. \n",
    "- Metric is called \"Total External debt stocks\" here: https://datatopics.worldbank.org/debt/ids/countryanalytical/ARG\n",
    "- Data source: https://worldbank.github.io/debt-data/api-guide/ids-api-guide-python-1.html\n",
    "- Source name: \"International Debt Statistics\", id:6\n",
    "- Indicator name: \"External debt stocks, total (DOD, current US$)\", code: \"DT.DOD.DECT.CD\"\n",
    "- Country selection: \"Low & middle income\" (LMY)\n",
    "- World Bank Data API docs: https://wbdata.readthedocs.io/en/latest/wbdata_library.html"
   ]
  },
  {
   "cell_type": "markdown",
   "metadata": {},
   "source": [
    "### Check data coordinates"
   ]
  },
  {
   "cell_type": "code",
   "execution_count": 2,
   "metadata": {},
   "outputs": [
    {
     "data": {
      "text/plain": [
       "  id  name\n",
       "----  -----------------------------\n",
       "   6  International Debt Statistics"
      ]
     },
     "execution_count": 2,
     "metadata": {},
     "output_type": "execute_result"
    }
   ],
   "source": [
    "# Make sure source exists\n",
    "wbdata.get_source(source_id=6)"
   ]
  },
  {
   "cell_type": "code",
   "execution_count": 3,
   "metadata": {},
   "outputs": [
    {
     "name": "stdout",
     "output_type": "stream",
     "text": [
      "Found: {'id': 'DT.DOD.DECT.CD', 'name': 'External debt stocks, total (DOD, current US$)', 'unit': '', 'source': {'id': '6', 'value': 'International Debt Statistics'}, 'sourceNote': 'Total external debt is debt owed to nonresidents repayable in currency, goods, or services. Total external debt is the sum of public, publicly guaranteed, and private nonguaranteed long-term debt, use of IMF credit, and short-term debt. Short-term debt includes all debt having an original maturity of one year or less and interest in arrears on long-term debt. Data are in current U.S. dollars.', 'sourceOrganization': 'World Bank, International Debt Statistics.', 'topics': [{'id': '3', 'value': 'Economy & Growth'}, {'id': '20', 'value': 'External Debt'}]}\n"
     ]
    }
   ],
   "source": [
    "# Make sure indicator exists in source\n",
    "ind = wbdata.get_indicator(source=6)\n",
    "for i in ind:\n",
    "    if i[\"id\"] == \"DT.DOD.DECT.CD\":\n",
    "        print(\"Found: \"+ (str(i)))"
   ]
  },
  {
   "cell_type": "code",
   "execution_count": 4,
   "metadata": {},
   "outputs": [
    {
     "data": {
      "text/plain": [
       "id    name\n",
       "----  ------------------------------\n",
       "AFG   Afghanistan\n",
       "AGO   Angola\n",
       "ALB   Albania\n",
       "ARG   Argentina\n",
       "ARM   Armenia\n",
       "ASM   American Samoa\n",
       "AZE   Azerbaijan\n",
       "BDI   Burundi\n",
       "BEN   Benin\n",
       "BFA   Burkina Faso\n",
       "BGD   Bangladesh\n",
       "BGR   Bulgaria\n",
       "BIH   Bosnia and Herzegovina\n",
       "BLR   Belarus\n",
       "BLZ   Belize\n",
       "BOL   Bolivia\n",
       "BRA   Brazil\n",
       "BTN   Bhutan\n",
       "BWA   Botswana\n",
       "CAF   Central African Republic\n",
       "CHN   China\n",
       "CIV   Cote d'Ivoire\n",
       "CMR   Cameroon\n",
       "COD   Congo, Dem. Rep.\n",
       "COG   Congo, Rep.\n",
       "COL   Colombia\n",
       "COM   Comoros\n",
       "CPV   Cabo Verde\n",
       "CRI   Costa Rica\n",
       "CUB   Cuba\n",
       "DJI   Djibouti\n",
       "DMA   Dominica\n",
       "DOM   Dominican Republic\n",
       "DZA   Algeria\n",
       "ECU   Ecuador\n",
       "EGY   Egypt, Arab Rep.\n",
       "ERI   Eritrea\n",
       "ETH   Ethiopia\n",
       "FJI   Fiji\n",
       "FSM   Micronesia, Fed. Sts.\n",
       "GAB   Gabon\n",
       "GEO   Georgia\n",
       "GHA   Ghana\n",
       "GIN   Guinea\n",
       "GMB   Gambia, The\n",
       "GNB   Guinea-Bissau\n",
       "GNQ   Equatorial Guinea\n",
       "GRD   Grenada\n",
       "GTM   Guatemala\n",
       "GUY   Guyana\n",
       "HND   Honduras\n",
       "HTI   Haiti\n",
       "IDN   Indonesia\n",
       "IND   India\n",
       "IRN   Iran, Islamic Rep.\n",
       "IRQ   Iraq\n",
       "JAM   Jamaica\n",
       "JOR   Jordan\n",
       "KAZ   Kazakhstan\n",
       "KEN   Kenya\n",
       "KGZ   Kyrgyz Republic\n",
       "KHM   Cambodia\n",
       "KIR   Kiribati\n",
       "LAO   Lao PDR\n",
       "LBN   Lebanon\n",
       "LBR   Liberia\n",
       "LBY   Libya\n",
       "LCA   St. Lucia\n",
       "LKA   Sri Lanka\n",
       "LSO   Lesotho\n",
       "MAR   Morocco\n",
       "MDA   Moldova\n",
       "MDG   Madagascar\n",
       "MDV   Maldives\n",
       "MEX   Mexico\n",
       "MHL   Marshall Islands\n",
       "MKD   North Macedonia\n",
       "MLI   Mali\n",
       "MMR   Myanmar\n",
       "MNE   Montenegro\n",
       "MNG   Mongolia\n",
       "MOZ   Mozambique\n",
       "MRT   Mauritania\n",
       "MUS   Mauritius\n",
       "MWI   Malawi\n",
       "MYS   Malaysia\n",
       "NAM   Namibia\n",
       "NER   Niger\n",
       "NGA   Nigeria\n",
       "NIC   Nicaragua\n",
       "NPL   Nepal\n",
       "PAK   Pakistan\n",
       "PAN   Panama\n",
       "PER   Peru\n",
       "PHL   Philippines\n",
       "PNG   Papua New Guinea\n",
       "PRK   Korea, Dem. People's Rep.\n",
       "PRY   Paraguay\n",
       "PSE   West Bank and Gaza\n",
       "ROU   Romania\n",
       "RUS   Russian Federation\n",
       "RWA   Rwanda\n",
       "SDN   Sudan\n",
       "SEN   Senegal\n",
       "SLB   Solomon Islands\n",
       "SLE   Sierra Leone\n",
       "SLV   El Salvador\n",
       "SOM   Somalia\n",
       "SRB   Serbia\n",
       "SSD   South Sudan\n",
       "STP   Sao Tome and Principe\n",
       "SUR   Suriname\n",
       "SWZ   Eswatini\n",
       "SYR   Syrian Arab Republic\n",
       "TCD   Chad\n",
       "TGO   Togo\n",
       "THA   Thailand\n",
       "TJK   Tajikistan\n",
       "TKM   Turkmenistan\n",
       "TLS   Timor-Leste\n",
       "TON   Tonga\n",
       "TUN   Tunisia\n",
       "TUR   Turkey\n",
       "TUV   Tuvalu\n",
       "TZA   Tanzania\n",
       "UGA   Uganda\n",
       "UKR   Ukraine\n",
       "UZB   Uzbekistan\n",
       "VCT   St. Vincent and the Grenadines\n",
       "VNM   Vietnam\n",
       "VUT   Vanuatu\n",
       "WSM   Samoa\n",
       "XKX   Kosovo\n",
       "YEM   Yemen, Rep.\n",
       "ZAF   South Africa\n",
       "ZMB   Zambia\n",
       "ZWE   Zimbabwe"
      ]
     },
     "execution_count": 4,
     "metadata": {},
     "output_type": "execute_result"
    }
   ],
   "source": [
    "# Print all selected countries\n",
    "wbdata.get_country(incomelevel='LMY')"
   ]
  },
  {
   "cell_type": "markdown",
   "metadata": {},
   "source": [
    "## Get WB data\n",
    "### Obs\n",
    "- Here, I encountered the following error when specifying a source in the arguments, (source=6):\n",
    "\"RuntimeError: Got error 175 (Invalid format): The indicator was not found. It may have been deleted or archived.\"\n",
    "- Time range is not required but I thought it maybe better not to leave rely on defaults"
   ]
  },
  {
   "cell_type": "code",
   "execution_count": 5,
   "metadata": {},
   "outputs": [],
   "source": [
    "def get_wb_data2(country):\n",
    "    countries = [country]\n",
    "    indicators = {\"DT.DOD.DECT.CD\":\"TotalExternalDebtUSD\"}\n",
    "    timeSelection = (datetime.datetime(2009, 1, 1), datetime.datetime(2018, 12, 31))\n",
    "    \n",
    "    df = wbdata.get_dataframe(indicators,freq=\"M\", country=countries, convert_date=True, keep_levels=False)   \n",
    "    return df"
   ]
  },
  {
   "cell_type": "code",
   "execution_count": 6,
   "metadata": {},
   "outputs": [
    {
     "data": {
      "text/plain": [
       "['AFG',\n",
       " 'AGO',\n",
       " 'ALB',\n",
       " 'ARG',\n",
       " 'ARM',\n",
       " 'ASM',\n",
       " 'AZE',\n",
       " 'BDI',\n",
       " 'BEN',\n",
       " 'BFA',\n",
       " 'BGD',\n",
       " 'BGR',\n",
       " 'BIH',\n",
       " 'BLR',\n",
       " 'BLZ',\n",
       " 'BOL',\n",
       " 'BRA',\n",
       " 'BTN',\n",
       " 'BWA',\n",
       " 'CAF',\n",
       " 'CHN',\n",
       " 'CIV',\n",
       " 'CMR',\n",
       " 'COD',\n",
       " 'COG',\n",
       " 'COL',\n",
       " 'COM',\n",
       " 'CPV',\n",
       " 'CRI',\n",
       " 'CUB',\n",
       " 'DJI',\n",
       " 'DMA',\n",
       " 'DOM',\n",
       " 'DZA',\n",
       " 'ECU',\n",
       " 'EGY',\n",
       " 'ERI',\n",
       " 'ETH',\n",
       " 'FJI',\n",
       " 'FSM',\n",
       " 'GAB',\n",
       " 'GEO',\n",
       " 'GHA',\n",
       " 'GIN',\n",
       " 'GMB',\n",
       " 'GNB',\n",
       " 'GNQ',\n",
       " 'GRD',\n",
       " 'GTM',\n",
       " 'GUY',\n",
       " 'HND',\n",
       " 'HTI',\n",
       " 'IDN',\n",
       " 'IND',\n",
       " 'IRN',\n",
       " 'IRQ',\n",
       " 'JAM',\n",
       " 'JOR',\n",
       " 'KAZ',\n",
       " 'KEN',\n",
       " 'KGZ',\n",
       " 'KHM',\n",
       " 'KIR',\n",
       " 'LAO',\n",
       " 'LBN',\n",
       " 'LBR',\n",
       " 'LBY',\n",
       " 'LCA',\n",
       " 'LKA',\n",
       " 'LSO',\n",
       " 'MAR',\n",
       " 'MDA',\n",
       " 'MDG',\n",
       " 'MDV',\n",
       " 'MEX',\n",
       " 'MHL',\n",
       " 'MKD',\n",
       " 'MLI',\n",
       " 'MMR',\n",
       " 'MNE',\n",
       " 'MNG',\n",
       " 'MOZ',\n",
       " 'MRT',\n",
       " 'MUS',\n",
       " 'MWI',\n",
       " 'MYS',\n",
       " 'NAM',\n",
       " 'NER',\n",
       " 'NGA',\n",
       " 'NIC',\n",
       " 'NPL',\n",
       " 'PAK',\n",
       " 'PAN',\n",
       " 'PER',\n",
       " 'PHL',\n",
       " 'PNG',\n",
       " 'PRK',\n",
       " 'PRY',\n",
       " 'PSE',\n",
       " 'ROU',\n",
       " 'RUS',\n",
       " 'RWA',\n",
       " 'SDN',\n",
       " 'SEN',\n",
       " 'SLB',\n",
       " 'SLE',\n",
       " 'SLV',\n",
       " 'SOM',\n",
       " 'SRB',\n",
       " 'SSD',\n",
       " 'STP',\n",
       " 'SUR',\n",
       " 'SWZ',\n",
       " 'SYR',\n",
       " 'TCD',\n",
       " 'TGO',\n",
       " 'THA',\n",
       " 'TJK',\n",
       " 'TKM',\n",
       " 'TLS',\n",
       " 'TON',\n",
       " 'TUN',\n",
       " 'TUR',\n",
       " 'TUV',\n",
       " 'TZA',\n",
       " 'UGA',\n",
       " 'UKR',\n",
       " 'UZB',\n",
       " 'VCT',\n",
       " 'VNM',\n",
       " 'VUT',\n",
       " 'WSM',\n",
       " 'XKX',\n",
       " 'YEM',\n",
       " 'ZAF',\n",
       " 'ZMB',\n",
       " 'ZWE']"
      ]
     },
     "execution_count": 6,
     "metadata": {},
     "output_type": "execute_result"
    }
   ],
   "source": [
    "countries = [i['id'] for i in wbdata.get_country(incomelevel='LMY')]\n",
    "countries"
   ]
  },
  {
   "cell_type": "code",
   "execution_count": 7,
   "metadata": {},
   "outputs": [],
   "source": [
    "def get_wb_data():\n",
    "    countries = [i['id'] for i in wbdata.get_country(incomelevel='LMY')]\n",
    "    indicators = {\"DT.DOD.DECT.CD\":\"TotalExternalDebtUSD\"}\n",
    "    timeSelection = (datetime.datetime(2009, 1, 1), datetime.datetime(2018, 12, 31))\n",
    "    \n",
    "    df = wbdata.get_dataframe(indicators,freq=\"M\", country=countries, convert_date=True, keep_levels=False)   \n",
    "    return df"
   ]
  },
  {
   "cell_type": "code",
   "execution_count": 8,
   "metadata": {},
   "outputs": [
    {
     "data": {
      "text/html": [
       "<div>\n",
       "<style scoped>\n",
       "    .dataframe tbody tr th:only-of-type {\n",
       "        vertical-align: middle;\n",
       "    }\n",
       "\n",
       "    .dataframe tbody tr th {\n",
       "        vertical-align: top;\n",
       "    }\n",
       "\n",
       "    .dataframe thead th {\n",
       "        text-align: right;\n",
       "    }\n",
       "</style>\n",
       "<table border=\"1\" class=\"dataframe\">\n",
       "  <thead>\n",
       "    <tr style=\"text-align: right;\">\n",
       "      <th></th>\n",
       "      <th></th>\n",
       "      <th>TotalExternalDebtUSD</th>\n",
       "    </tr>\n",
       "    <tr>\n",
       "      <th>country</th>\n",
       "      <th>date</th>\n",
       "      <th></th>\n",
       "    </tr>\n",
       "  </thead>\n",
       "  <tbody>\n",
       "    <tr>\n",
       "      <th rowspan=\"10\" valign=\"top\">Afghanistan</th>\n",
       "      <th>2021-01-01</th>\n",
       "      <td>NaN</td>\n",
       "    </tr>\n",
       "    <tr>\n",
       "      <th>2020-01-01</th>\n",
       "      <td>3.036369e+09</td>\n",
       "    </tr>\n",
       "    <tr>\n",
       "      <th>2019-01-01</th>\n",
       "      <td>2.661686e+09</td>\n",
       "    </tr>\n",
       "    <tr>\n",
       "      <th>2018-01-01</th>\n",
       "      <td>2.678760e+09</td>\n",
       "    </tr>\n",
       "    <tr>\n",
       "      <th>2017-01-01</th>\n",
       "      <td>2.751987e+09</td>\n",
       "    </tr>\n",
       "    <tr>\n",
       "      <th>2016-01-01</th>\n",
       "      <td>2.596050e+09</td>\n",
       "    </tr>\n",
       "    <tr>\n",
       "      <th>2015-01-01</th>\n",
       "      <td>2.596917e+09</td>\n",
       "    </tr>\n",
       "    <tr>\n",
       "      <th>2014-01-01</th>\n",
       "      <td>2.529865e+09</td>\n",
       "    </tr>\n",
       "    <tr>\n",
       "      <th>2013-01-01</th>\n",
       "      <td>2.587775e+09</td>\n",
       "    </tr>\n",
       "    <tr>\n",
       "      <th>2012-01-01</th>\n",
       "      <td>2.580632e+09</td>\n",
       "    </tr>\n",
       "  </tbody>\n",
       "</table>\n",
       "</div>"
      ],
      "text/plain": [
       "                        TotalExternalDebtUSD\n",
       "country     date                            \n",
       "Afghanistan 2021-01-01                   NaN\n",
       "            2020-01-01          3.036369e+09\n",
       "            2019-01-01          2.661686e+09\n",
       "            2018-01-01          2.678760e+09\n",
       "            2017-01-01          2.751987e+09\n",
       "            2016-01-01          2.596050e+09\n",
       "            2015-01-01          2.596917e+09\n",
       "            2014-01-01          2.529865e+09\n",
       "            2013-01-01          2.587775e+09\n",
       "            2012-01-01          2.580632e+09"
      ]
     },
     "execution_count": 8,
     "metadata": {},
     "output_type": "execute_result"
    }
   ],
   "source": [
    "wb_df = get_wb_data()\n",
    "wb_df.head(10)"
   ]
  },
  {
   "cell_type": "markdown",
   "metadata": {},
   "source": [
    "### Format dataframe"
   ]
  },
  {
   "cell_type": "code",
   "execution_count": 9,
   "metadata": {},
   "outputs": [],
   "source": [
    "def format_wb_df(df):\n",
    "    df_list = []\n",
    "    for country_name in df.index.unique(level='country'):\n",
    "        \n",
    "        # get each country data as pd.Series from multindex df\n",
    "        row = df.xs(country_name,level=0, axis=0)\n",
    "        row = row.rename(columns = {'TotalExternalDebtUSD':country_name})\n",
    "        df_list.append(row[country_name])\n",
    "\n",
    "    # merge series into dataframe\n",
    "    return pd.concat(df_list, axis=1)"
   ]
  },
  {
   "cell_type": "code",
   "execution_count": 10,
   "metadata": {},
   "outputs": [
    {
     "data": {
      "text/html": [
       "<div>\n",
       "<style scoped>\n",
       "    .dataframe tbody tr th:only-of-type {\n",
       "        vertical-align: middle;\n",
       "    }\n",
       "\n",
       "    .dataframe tbody tr th {\n",
       "        vertical-align: top;\n",
       "    }\n",
       "\n",
       "    .dataframe thead th {\n",
       "        text-align: right;\n",
       "    }\n",
       "</style>\n",
       "<table border=\"1\" class=\"dataframe\">\n",
       "  <thead>\n",
       "    <tr style=\"text-align: right;\">\n",
       "      <th></th>\n",
       "      <th>Afghanistan</th>\n",
       "      <th>Angola</th>\n",
       "      <th>Albania</th>\n",
       "      <th>Argentina</th>\n",
       "      <th>Armenia</th>\n",
       "      <th>American Samoa</th>\n",
       "      <th>Azerbaijan</th>\n",
       "      <th>Burundi</th>\n",
       "      <th>Benin</th>\n",
       "      <th>Burkina Faso</th>\n",
       "      <th>...</th>\n",
       "      <th>Uzbekistan</th>\n",
       "      <th>St. Vincent and the Grenadines</th>\n",
       "      <th>Vietnam</th>\n",
       "      <th>Vanuatu</th>\n",
       "      <th>Samoa</th>\n",
       "      <th>Kosovo</th>\n",
       "      <th>Yemen, Rep.</th>\n",
       "      <th>South Africa</th>\n",
       "      <th>Zambia</th>\n",
       "      <th>Zimbabwe</th>\n",
       "    </tr>\n",
       "    <tr>\n",
       "      <th>date</th>\n",
       "      <th></th>\n",
       "      <th></th>\n",
       "      <th></th>\n",
       "      <th></th>\n",
       "      <th></th>\n",
       "      <th></th>\n",
       "      <th></th>\n",
       "      <th></th>\n",
       "      <th></th>\n",
       "      <th></th>\n",
       "      <th></th>\n",
       "      <th></th>\n",
       "      <th></th>\n",
       "      <th></th>\n",
       "      <th></th>\n",
       "      <th></th>\n",
       "      <th></th>\n",
       "      <th></th>\n",
       "      <th></th>\n",
       "      <th></th>\n",
       "      <th></th>\n",
       "    </tr>\n",
       "  </thead>\n",
       "  <tbody>\n",
       "    <tr>\n",
       "      <th>2021-01-01</th>\n",
       "      <td>NaN</td>\n",
       "      <td>NaN</td>\n",
       "      <td>NaN</td>\n",
       "      <td>NaN</td>\n",
       "      <td>NaN</td>\n",
       "      <td>NaN</td>\n",
       "      <td>NaN</td>\n",
       "      <td>NaN</td>\n",
       "      <td>NaN</td>\n",
       "      <td>NaN</td>\n",
       "      <td>...</td>\n",
       "      <td>NaN</td>\n",
       "      <td>NaN</td>\n",
       "      <td>NaN</td>\n",
       "      <td>NaN</td>\n",
       "      <td>NaN</td>\n",
       "      <td>NaN</td>\n",
       "      <td>NaN</td>\n",
       "      <td>NaN</td>\n",
       "      <td>NaN</td>\n",
       "      <td>NaN</td>\n",
       "    </tr>\n",
       "    <tr>\n",
       "      <th>2020-01-01</th>\n",
       "      <td>3.036369e+09</td>\n",
       "      <td>6.728679e+10</td>\n",
       "      <td>1.085924e+10</td>\n",
       "      <td>2.537601e+11</td>\n",
       "      <td>1.309386e+10</td>\n",
       "      <td>NaN</td>\n",
       "      <td>1.581192e+10</td>\n",
       "      <td>625985283.6</td>\n",
       "      <td>5.250480e+09</td>\n",
       "      <td>4.494782e+09</td>\n",
       "      <td>...</td>\n",
       "      <td>3.217441e+10</td>\n",
       "      <td>406295764.5</td>\n",
       "      <td>1.250453e+11</td>\n",
       "      <td>455667428.4</td>\n",
       "      <td>437296399.1</td>\n",
       "      <td>3.108498e+09</td>\n",
       "      <td>7.120836e+09</td>\n",
       "      <td>1.707666e+11</td>\n",
       "      <td>3.004589e+10</td>\n",
       "      <td>1.274066e+10</td>\n",
       "    </tr>\n",
       "    <tr>\n",
       "      <th>2019-01-01</th>\n",
       "      <td>2.661686e+09</td>\n",
       "      <td>6.444616e+10</td>\n",
       "      <td>9.556856e+09</td>\n",
       "      <td>2.817238e+11</td>\n",
       "      <td>1.188449e+10</td>\n",
       "      <td>NaN</td>\n",
       "      <td>1.584036e+10</td>\n",
       "      <td>593889381.1</td>\n",
       "      <td>3.877756e+09</td>\n",
       "      <td>3.686905e+09</td>\n",
       "      <td>...</td>\n",
       "      <td>2.240662e+10</td>\n",
       "      <td>351677245.0</td>\n",
       "      <td>1.173372e+11</td>\n",
       "      <td>441265525.7</td>\n",
       "      <td>408555300.1</td>\n",
       "      <td>2.428182e+09</td>\n",
       "      <td>7.055218e+09</td>\n",
       "      <td>1.853570e+11</td>\n",
       "      <td>2.772625e+10</td>\n",
       "      <td>1.224452e+10</td>\n",
       "    </tr>\n",
       "    <tr>\n",
       "      <th>2018-01-01</th>\n",
       "      <td>2.678760e+09</td>\n",
       "      <td>6.321753e+10</td>\n",
       "      <td>9.875850e+09</td>\n",
       "      <td>2.778273e+11</td>\n",
       "      <td>1.072573e+10</td>\n",
       "      <td>NaN</td>\n",
       "      <td>1.621103e+10</td>\n",
       "      <td>584975019.0</td>\n",
       "      <td>3.585946e+09</td>\n",
       "      <td>3.317746e+09</td>\n",
       "      <td>...</td>\n",
       "      <td>1.773568e+10</td>\n",
       "      <td>323345869.9</td>\n",
       "      <td>1.068545e+11</td>\n",
       "      <td>402236822.4</td>\n",
       "      <td>427480190.6</td>\n",
       "      <td>2.325736e+09</td>\n",
       "      <td>7.036510e+09</td>\n",
       "      <td>1.740940e+11</td>\n",
       "      <td>2.352627e+10</td>\n",
       "      <td>1.262012e+10</td>\n",
       "    </tr>\n",
       "    <tr>\n",
       "      <th>2017-01-01</th>\n",
       "      <td>2.751987e+09</td>\n",
       "      <td>5.917590e+10</td>\n",
       "      <td>9.801455e+09</td>\n",
       "      <td>2.259253e+11</td>\n",
       "      <td>1.022830e+10</td>\n",
       "      <td>NaN</td>\n",
       "      <td>1.530092e+10</td>\n",
       "      <td>606820362.7</td>\n",
       "      <td>2.794440e+09</td>\n",
       "      <td>3.166767e+09</td>\n",
       "      <td>...</td>\n",
       "      <td>1.669230e+10</td>\n",
       "      <td>335439396.4</td>\n",
       "      <td>1.040900e+11</td>\n",
       "      <td>401420199.8</td>\n",
       "      <td>443075541.6</td>\n",
       "      <td>2.504231e+09</td>\n",
       "      <td>7.193100e+09</td>\n",
       "      <td>1.749208e+11</td>\n",
       "      <td>2.295432e+10</td>\n",
       "      <td>1.251036e+10</td>\n",
       "    </tr>\n",
       "  </tbody>\n",
       "</table>\n",
       "<p>5 rows × 137 columns</p>\n",
       "</div>"
      ],
      "text/plain": [
       "             Afghanistan        Angola       Albania     Argentina  \\\n",
       "date                                                                 \n",
       "2021-01-01           NaN           NaN           NaN           NaN   \n",
       "2020-01-01  3.036369e+09  6.728679e+10  1.085924e+10  2.537601e+11   \n",
       "2019-01-01  2.661686e+09  6.444616e+10  9.556856e+09  2.817238e+11   \n",
       "2018-01-01  2.678760e+09  6.321753e+10  9.875850e+09  2.778273e+11   \n",
       "2017-01-01  2.751987e+09  5.917590e+10  9.801455e+09  2.259253e+11   \n",
       "\n",
       "                 Armenia  American Samoa    Azerbaijan      Burundi  \\\n",
       "date                                                                  \n",
       "2021-01-01           NaN             NaN           NaN          NaN   \n",
       "2020-01-01  1.309386e+10             NaN  1.581192e+10  625985283.6   \n",
       "2019-01-01  1.188449e+10             NaN  1.584036e+10  593889381.1   \n",
       "2018-01-01  1.072573e+10             NaN  1.621103e+10  584975019.0   \n",
       "2017-01-01  1.022830e+10             NaN  1.530092e+10  606820362.7   \n",
       "\n",
       "                   Benin  Burkina Faso  ...    Uzbekistan  \\\n",
       "date                                    ...                 \n",
       "2021-01-01           NaN           NaN  ...           NaN   \n",
       "2020-01-01  5.250480e+09  4.494782e+09  ...  3.217441e+10   \n",
       "2019-01-01  3.877756e+09  3.686905e+09  ...  2.240662e+10   \n",
       "2018-01-01  3.585946e+09  3.317746e+09  ...  1.773568e+10   \n",
       "2017-01-01  2.794440e+09  3.166767e+09  ...  1.669230e+10   \n",
       "\n",
       "            St. Vincent and the Grenadines       Vietnam      Vanuatu  \\\n",
       "date                                                                    \n",
       "2021-01-01                             NaN           NaN          NaN   \n",
       "2020-01-01                     406295764.5  1.250453e+11  455667428.4   \n",
       "2019-01-01                     351677245.0  1.173372e+11  441265525.7   \n",
       "2018-01-01                     323345869.9  1.068545e+11  402236822.4   \n",
       "2017-01-01                     335439396.4  1.040900e+11  401420199.8   \n",
       "\n",
       "                  Samoa        Kosovo   Yemen, Rep.  South Africa  \\\n",
       "date                                                                \n",
       "2021-01-01          NaN           NaN           NaN           NaN   \n",
       "2020-01-01  437296399.1  3.108498e+09  7.120836e+09  1.707666e+11   \n",
       "2019-01-01  408555300.1  2.428182e+09  7.055218e+09  1.853570e+11   \n",
       "2018-01-01  427480190.6  2.325736e+09  7.036510e+09  1.740940e+11   \n",
       "2017-01-01  443075541.6  2.504231e+09  7.193100e+09  1.749208e+11   \n",
       "\n",
       "                  Zambia      Zimbabwe  \n",
       "date                                    \n",
       "2021-01-01           NaN           NaN  \n",
       "2020-01-01  3.004589e+10  1.274066e+10  \n",
       "2019-01-01  2.772625e+10  1.224452e+10  \n",
       "2018-01-01  2.352627e+10  1.262012e+10  \n",
       "2017-01-01  2.295432e+10  1.251036e+10  \n",
       "\n",
       "[5 rows x 137 columns]"
      ]
     },
     "execution_count": 10,
     "metadata": {},
     "output_type": "execute_result"
    }
   ],
   "source": [
    "final_df = format_wb_df(wb_df)\n",
    "final_df.head()"
   ]
  },
  {
   "cell_type": "markdown",
   "metadata": {},
   "source": [
    "### Plot a country's debt over time"
   ]
  },
  {
   "cell_type": "code",
   "execution_count": 11,
   "metadata": {},
   "outputs": [
    {
     "data": {
      "image/png": "[encoded data removed]",
      "text/plain": [
       "<Figure size 1440x720 with 1 Axes>"
      ]
     },
     "metadata": {
      "needs_background": "light"
     },
     "output_type": "display_data"
    }
   ],
   "source": [
    "plot = final_df.plot(y=[\"Albania\"],figsize=(20, 10))\n",
    "func = lambda y, pos: f\"${y:,.0f}\"\n",
    "plot.yaxis.set_major_formatter(func)\n",
    "plt.show()"
   ]
  },
  {
   "cell_type": "markdown",
   "metadata": {},
   "source": [
    "### Plot all countries"
   ]
  },
  {
   "cell_type": "code",
   "execution_count": 49,
   "metadata": {},
   "outputs": [],
   "source": [
    "#final_df.plot(subplots=True,figsize=(10, 60))\n",
    "#plt.show()"
   ]
  },
  {
   "cell_type": "markdown",
   "metadata": {},
   "source": [
    "## Forecasting"
   ]
  },
  {
   "cell_type": "markdown",
   "metadata": {},
   "source": [
    "### Setup"
   ]
  },
  {
   "cell_type": "code",
   "execution_count": 24,
   "metadata": {},
   "outputs": [],
   "source": [
    "sns.set()"
   ]
  },
  {
   "cell_type": "code",
   "execution_count": 25,
   "metadata": {},
   "outputs": [
    {
     "data": {
      "text/plain": [
       "[<matplotlib.lines.Line2D at 0x7fb5d2907f70>]"
      ]
     },
     "execution_count": 25,
     "metadata": {},
     "output_type": "execute_result"
    },
    {
     "data": {
      "image/png": "[encoded data removed]",
      "text/plain": [
       "<Figure size 432x288 with 1 Axes>"
      ]
     },
     "metadata": {},
     "output_type": "display_data"
    }
   ],
   "source": [
    "plt.ylabel('Debt USD$')\n",
    "plt.xlabel('Date')\n",
    "plt.xticks(rotation=45)\n",
    "plt.plot(final_df.index, final_df[\"Albania\"], )"
   ]
  },
  {
   "cell_type": "code",
   "execution_count": 86,
   "metadata": {},
   "outputs": [],
   "source": [
    "# train/test split\n",
    "country_name = \"Albania\"\n",
    "date_split = pd.to_datetime(\"2017-01-01\", format='%Y-%m-%d')\n",
    "train = final_df[country_name][final_df.index <= date_split]\n",
    "test = final_df[country_name][final_df.index >= date_split]"
   ]
  },
  {
   "cell_type": "markdown",
   "metadata": {},
   "source": [
    "# Pending\n",
    "- Replace sans with forward fill (done)\n",
    "- Replace missing values with mean (not sure if needed)\n",
    "\n",
    "I think this is important:\n",
    "\n",
    "- Make sure debt data type is correct type\n",
    "- Make sure date is correct type"
   ]
  },
  {
   "cell_type": "code",
   "execution_count": 87,
   "metadata": {},
   "outputs": [],
   "source": [
    "# deal with missing values\n",
    "train = train.fillna(method=\"ffill\")\n",
    "test = test.fillna(method=\"ffill\")"
   ]
  },
  {
   "cell_type": "code",
   "execution_count": 88,
   "metadata": {},
   "outputs": [
    {
     "data": {
      "image/png": "[encoded data removed]",
      "text/plain": [
       "<Figure size 432x288 with 1 Axes>"
      ]
     },
     "metadata": {},
     "output_type": "display_data"
    }
   ],
   "source": [
    "plt.plot(train, color = \"black\")\n",
    "plt.plot(test, color = \"red\")\n",
    "plt.ylabel('Debt USD$')\n",
    "plt.xlabel('Date')\n",
    "plt.xticks(rotation=45)\n",
    "plt.title(\"Train/Test split for debt data: \"+ country_name)\n",
    "plt.show()"
   ]
  },
  {
   "cell_type": "markdown",
   "metadata": {},
   "source": [
    "### ARMA"
   ]
  },
  {
   "cell_type": "code",
   "execution_count": 89,
   "metadata": {},
   "outputs": [],
   "source": [
    "from statsmodels.tsa.statespace.sarimax import SARIMAX"
   ]
  },
  {
   "cell_type": "code",
   "execution_count": 90,
   "metadata": {},
   "outputs": [],
   "source": [
    "y = train"
   ]
  },
  {
   "cell_type": "code",
   "execution_count": 92,
   "metadata": {},
   "outputs": [
    {
     "name": "stderr",
     "output_type": "stream",
     "text": [
      "/Users/userfriendly/opt/anaconda3/lib/python3.8/site-packages/statsmodels/tsa/base/tsa_model.py:524: ValueWarning:\n",
      "\n",
      "No frequency information was provided, so inferred frequency -1AS-JAN will be used.\n",
      "\n",
      "/Users/userfriendly/opt/anaconda3/lib/python3.8/site-packages/statsmodels/tsa/base/tsa_model.py:585: ValueWarning:\n",
      "\n",
      "A date index has been provided, but it is not monotonic and so will be ignored when e.g. forecasting.\n",
      "\n",
      "/Users/userfriendly/opt/anaconda3/lib/python3.8/site-packages/statsmodels/tsa/base/tsa_model.py:524: ValueWarning:\n",
      "\n",
      "No frequency information was provided, so inferred frequency -1AS-JAN will be used.\n",
      "\n",
      "/Users/userfriendly/opt/anaconda3/lib/python3.8/site-packages/statsmodels/tsa/base/tsa_model.py:585: ValueWarning:\n",
      "\n",
      "A date index has been provided, but it is not monotonic and so will be ignored when e.g. forecasting.\n",
      "\n"
     ]
    }
   ],
   "source": [
    "ARMAmodel = SARIMAX(y, order = (1, 0, 1))"
   ]
  },
  {
   "cell_type": "code",
   "execution_count": 60,
   "metadata": {},
   "outputs": [],
   "source": [
    "ARMAmodel = ARMAmodel.fit()"
   ]
  },
  {
   "cell_type": "code",
   "execution_count": 61,
   "metadata": {},
   "outputs": [
    {
     "name": "stderr",
     "output_type": "stream",
     "text": [
      "/Users/userfriendly/opt/anaconda3/lib/python3.8/site-packages/statsmodels/tsa/base/tsa_model.py:376: ValueWarning:\n",
      "\n",
      "No supported index is available. Prediction results will be given with an integer index beginning at `start`.\n",
      "\n",
      "/Users/userfriendly/opt/anaconda3/lib/python3.8/site-packages/statsmodels/tsa/base/tsa_model.py:376: ValueWarning:\n",
      "\n",
      "No supported index is available. Prediction results will be given with an integer index beginning at `start`.\n",
      "\n"
     ]
    }
   ],
   "source": [
    "y_pred = ARMAmodel.get_forecast(len(test.index))\n",
    "y_pred_df = y_pred.conf_int(alpha = 0.05) \n",
    "y_pred_df[\"Predictions\"] = ARMAmodel.predict(start = y_pred_df.index[0], end = y_pred_df.index[-1])\n",
    "y_pred_df.index = test.index\n",
    "y_pred_out = y_pred_df[\"Predictions\"] "
   ]
  },
  {
   "cell_type": "code",
   "execution_count": 62,
   "metadata": {},
   "outputs": [
    {
     "data": {
      "text/plain": [
       "date\n",
       "2020-01-01    5.105742e+08\n",
       "2019-01-01    5.096643e+08\n",
       "2018-01-01    5.087560e+08\n",
       "2017-01-01    5.078493e+08\n",
       "Name: Predictions, dtype: float64"
      ]
     },
     "execution_count": 62,
     "metadata": {},
     "output_type": "execute_result"
    }
   ],
   "source": [
    "y_pred_out"
   ]
  },
  {
   "cell_type": "code",
   "execution_count": 63,
   "metadata": {},
   "outputs": [
    {
     "data": {
      "text/plain": [
       "<matplotlib.legend.Legend at 0x7fb5c4216370>"
      ]
     },
     "execution_count": 63,
     "metadata": {},
     "output_type": "execute_result"
    },
    {
     "data": {
      "image/png": "[encoded data removed]",
      "text/plain": [
       "<Figure size 432x288 with 1 Axes>"
      ]
     },
     "metadata": {},
     "output_type": "display_data"
    }
   ],
   "source": [
    "plt.plot(train, color = \"black\", label = 'Training')\n",
    "plt.plot(test, color = \"red\", label = 'test')\n",
    "plt.plot(y_pred_out, color='green', label = 'Predictions')\n",
    "plt.ylabel('Debt USD$')\n",
    "plt.xlabel('Date')\n",
    "plt.xticks(rotation=45)\n",
    "plt.title(\"Train/Test split for debt data: \"+ country_name)\n",
    "plt.legend()"
   ]
  },
  {
   "cell_type": "markdown",
   "metadata": {},
   "source": [
    "### ARIMA"
   ]
  },
  {
   "cell_type": "code",
   "execution_count": 64,
   "metadata": {},
   "outputs": [],
   "source": [
    "from statsmodels.tsa.arima.model import ARIMA"
   ]
  },
  {
   "cell_type": "code",
   "execution_count": 65,
   "metadata": {},
   "outputs": [
    {
     "name": "stderr",
     "output_type": "stream",
     "text": [
      "/Users/userfriendly/opt/anaconda3/lib/python3.8/site-packages/statsmodels/tsa/base/tsa_model.py:524: ValueWarning:\n",
      "\n",
      "No frequency information was provided, so inferred frequency -1AS-JAN will be used.\n",
      "\n",
      "/Users/userfriendly/opt/anaconda3/lib/python3.8/site-packages/statsmodels/tsa/base/tsa_model.py:585: ValueWarning:\n",
      "\n",
      "A date index has been provided, but it is not monotonic and so will be ignored when e.g. forecasting.\n",
      "\n",
      "/Users/userfriendly/opt/anaconda3/lib/python3.8/site-packages/statsmodels/tsa/base/tsa_model.py:524: ValueWarning:\n",
      "\n",
      "No frequency information was provided, so inferred frequency -1AS-JAN will be used.\n",
      "\n",
      "/Users/userfriendly/opt/anaconda3/lib/python3.8/site-packages/statsmodels/tsa/base/tsa_model.py:585: ValueWarning:\n",
      "\n",
      "A date index has been provided, but it is not monotonic and so will be ignored when e.g. forecasting.\n",
      "\n",
      "/Users/userfriendly/opt/anaconda3/lib/python3.8/site-packages/statsmodels/tsa/base/tsa_model.py:524: ValueWarning:\n",
      "\n",
      "No frequency information was provided, so inferred frequency -1AS-JAN will be used.\n",
      "\n",
      "/Users/userfriendly/opt/anaconda3/lib/python3.8/site-packages/statsmodels/tsa/base/tsa_model.py:585: ValueWarning:\n",
      "\n",
      "A date index has been provided, but it is not monotonic and so will be ignored when e.g. forecasting.\n",
      "\n",
      "/Users/userfriendly/opt/anaconda3/lib/python3.8/site-packages/statsmodels/tsa/statespace/sarimax.py:977: UserWarning:\n",
      "\n",
      "Non-invertible starting MA parameters found. Using zeros as starting parameters.\n",
      "\n",
      "/Users/userfriendly/opt/anaconda3/lib/python3.8/site-packages/statsmodels/tsa/base/tsa_model.py:376: ValueWarning:\n",
      "\n",
      "No supported index is available. Prediction results will be given with an integer index beginning at `start`.\n",
      "\n",
      "/Users/userfriendly/opt/anaconda3/lib/python3.8/site-packages/statsmodels/tsa/base/tsa_model.py:376: ValueWarning:\n",
      "\n",
      "No supported index is available. Prediction results will be given with an integer index beginning at `start`.\n",
      "\n"
     ]
    },
    {
     "name": "stdout",
     "output_type": "stream",
     "text": [
      "RMSE:  9803216227.620163\n"
     ]
    },
    {
     "data": {
      "image/png": "[encoded data removed]",
      "text/plain": [
       "<Figure size 432x288 with 1 Axes>"
      ]
     },
     "metadata": {},
     "output_type": "display_data"
    }
   ],
   "source": [
    "ARIMAmodel = ARIMA(y, order = (2, 2, 2))\n",
    "ARIMAmodel = ARIMAmodel.fit()\n",
    "\n",
    "y_pred = ARIMAmodel.get_forecast(len(test.index))\n",
    "y_pred_df = y_pred.conf_int(alpha = 0.05) \n",
    "y_pred_df[\"Predictions\"] = ARIMAmodel.predict(start = y_pred_df.index[0], end = y_pred_df.index[-1])\n",
    "y_pred_df.index = test.index\n",
    "y_pred_out = y_pred_df[\"Predictions\"] \n",
    "plt.plot(y_pred_out, color='Yellow', label = 'ARIMA Predictions')\n",
    "plt.legend()\n",
    "\n",
    "\n",
    "import numpy as np\n",
    "from sklearn.metrics import mean_squared_error\n",
    "\n",
    "arma_rmse = np.sqrt(mean_squared_error(test.values, y_pred_df[\"Predictions\"]))\n",
    "print(\"RMSE: \",arma_rmse)"
   ]
  }
 ],
 "metadata": {
  "kernelspec": {
   "display_name": "Python 3",
   "language": "python",
   "name": "python3"
  },
  "language_info": {
   "codemirror_mode": {
    "name": "ipython",
    "version": 3
   },
   "file_extension": ".py",
   "mimetype": "text/x-python",
   "name": "python",
   "nbconvert_exporter": "python",
   "pygments_lexer": "ipython3",
   "version": "3.8.5"
  }
 },
 "nbformat": 4,
 "nbformat_minor": 4
}
